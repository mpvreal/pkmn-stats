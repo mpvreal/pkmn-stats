{
 "cells": [
  {
   "cell_type": "markdown",
   "source": [
    "# Decision Tree\n",
    "\n",
    "Realizando os imports e inicializando o dataframe com o arquivo CSV"
   ],
   "metadata": {
    "collapsed": false
   }
  },
  {
   "cell_type": "code",
   "execution_count": null,
   "outputs": [],
   "source": [
    "from sklearn import tree\n",
    "from sklearn.tree import DecisionTreeClassifier\n",
    "\n",
    "from sklearn.model_selection import train_test_split\n",
    "\n",
    "from sklearn.metrics import accuracy_score\n",
    "from sklearn.metrics import confusion_matrix\n",
    "\n",
    "import matplotlib.pyplot as plt\n",
    "\n",
    "import pandas as pd\n",
    "CSV_FULL_PATH = '../CSVs/pokemon.csv'\n",
    "\n",
    "data_pandas = pd.read_csv(CSV_FULL_PATH)\n",
    "df = pd.DataFrame(data_pandas)\n",
    "\n",
    "x = df.drop(['is_legendary', 'name'], axis=1)\n",
    "y = df['is_legendary']"
   ],
   "metadata": {
    "collapsed": false
   }
  },
  {
   "cell_type": "markdown",
   "source": [
    "## Treinando o modelo e testando a acurácia\n",
    "Primeiro dividimos o dataset em treino e teste. Depois geramos o modelo de árvore de decisão e treinamos com o dataset de treino. Por fim, fazemos as predições com o dataset de teste e calculamos a acurácia."
   ],
   "metadata": {
    "collapsed": false
   }
  },
  {
   "cell_type": "code",
   "execution_count": null,
   "outputs": [],
   "source": [
    "x_train, x_test, y_train, y_test = train_test_split(x, y, test_size=0.25, random_state=1)\n",
    "\n",
    "model = DecisionTreeClassifier(random_state=1)\n",
    "model.fit(x_train, y_train) # Aplicamos no modelo os dados de treino\n",
    "\n",
    "y_pred = model.predict(x_test) # Fazemos as predições com os dados de teste\n",
    "print('Acurácia: {}%'.format(accuracy_score(y_test, y_pred) * 100))\n",
    "recall = confusion_matrix(y_test, y_pred)[1][1] / (\n",
    "            confusion_matrix(y_test, y_pred)[1][1] + confusion_matrix(y_test, y_pred)[1][0])\n",
    "f1 = 2 * (recall * accuracy_score(y_test, y_pred)) / (recall + accuracy_score(y_test, y_pred))\n",
    "precision = confusion_matrix(y_test, y_pred)[1][1] / (\n",
    "            confusion_matrix(y_test, y_pred)[1][1] + confusion_matrix(y_test, y_pred)[0][1])\n",
    "print('Recall: {}%'.format(recall * 100))\n",
    "print('F1: {}%'.format(f1 * 100))\n",
    "print('Precisão: {}%'.format(precision * 100))"
   ],
   "metadata": {
    "collapsed": false
   }
  },
  {
   "cell_type": "markdown",
   "source": [
    "## Matriz de confusão"
   ],
   "metadata": {
    "collapsed": false
   }
  },
  {
   "cell_type": "code",
   "execution_count": null,
   "outputs": [],
   "source": [
    "from mlxtend.plotting import plot_confusion_matrix\n",
    "fig, ax = plot_confusion_matrix(conf_mat=confusion_matrix(y_test, y_pred), cmap='binary')\n",
    "ax.xaxis.set(ticks=(0, 1), ticklabels=('Predicted 0s', 'Predicted 1s'))\n",
    "ax.yaxis.set(ticks=(0, 1), ticklabels=('Actual 0s', 'Actual 1s'))\n",
    "plt.xlabel('Predictions', fontsize=18)\n",
    "plt.ylabel('Actuals', fontsize=18)\n",
    "for t in ax.texts: t.set_color('red')\n",
    "plt.show()"
   ],
   "metadata": {
    "collapsed": false
   }
  },
  {
   "cell_type": "markdown",
   "source": [
    "## Visualizando a árvore de decisão"
   ],
   "metadata": {
    "collapsed": false
   }
  },
  {
   "cell_type": "code",
   "execution_count": null,
   "outputs": [],
   "source": [
    "import numpy as np\n",
    "\n",
    "tree.plot_tree(model,\n",
    "               feature_names=x.columns,\n",
    "               class_names=['Not Legendary', 'Legendary'],\n",
    "               filled=True)\n",
    "plt.show()\n",
    "plt.clf()\n",
    "\n",
    "importances = model.feature_importances_\n",
    "indices = np.argsort(importances)[::-1]\n",
    "print(\"Feature ranking:\")\n",
    "for f in range(x.shape[1]):\n",
    "    print(\"%d. Feature %s (%f)\" % (f + 1, x.columns[indices[f]], importances[indices[f]]))"
   ],
   "metadata": {
    "collapsed": false
   }
  },
  {
   "cell_type": "markdown",
   "source": [
    "## Analisando as predições"
   ],
   "metadata": {
    "collapsed": false
   }
  },
  {
   "cell_type": "code",
   "execution_count": null,
   "outputs": [],
   "source": [
    "leg_pred_as_leg = []\n",
    "leg_pred_as_not_leg = []\n",
    "not_leg_pred_as_leg = []\n",
    "for i in range(len(y_pred)):\n",
    "    if y_pred[i] == 1 and y_test.iloc[i] == 1:\n",
    "        leg_pred_as_leg.append(df.loc[x_test.index[i], 'name'])\n",
    "    elif y_pred[i] == 0 and y_test.iloc[i] == 1:\n",
    "        leg_pred_as_not_leg.append(df.loc[x_test.index[i], 'name'])\n",
    "    elif y_pred[i] == 1 and y_test.iloc[i] == 0:\n",
    "        not_leg_pred_as_leg.append(df.loc[x_test.index[i], 'name'])\n",
    "leg_df = pd.DataFrame({'Pokemon': leg_pred_as_leg, 'Predicted': 'Legendary', 'Actual': 'Legendary'})\n",
    "not_leg_df = pd.DataFrame({'Pokemon': leg_pred_as_not_leg, 'Predicted': 'Not Legendary', 'Actual': 'Legendary'})\n",
    "not_leg_pred_as_leg_df = pd.DataFrame(\n",
    "    {'Pokemon': not_leg_pred_as_leg, 'Predicted': 'Legendary', 'Actual': 'Not Legendary'})\n",
    "df = pd.concat([leg_df, not_leg_df, not_leg_pred_as_leg_df])\n",
    "df"
   ],
   "metadata": {
    "collapsed": false
   }
  }
 ],
 "metadata": {
  "kernelspec": {
   "display_name": "Python 3",
   "language": "python",
   "name": "python3"
  },
  "language_info": {
   "codemirror_mode": {
    "name": "ipython",
    "version": 2
   },
   "file_extension": ".py",
   "mimetype": "text/x-python",
   "name": "python",
   "nbconvert_exporter": "python",
   "pygments_lexer": "ipython2",
   "version": "2.7.6"
  }
 },
 "nbformat": 4,
 "nbformat_minor": 0
}
