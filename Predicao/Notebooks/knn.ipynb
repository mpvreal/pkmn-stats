{
 "cells": [
  {
   "cell_type": "markdown",
   "source": [
    "# KNN\n",
    "\n",
    "Realizando os imports e inicializando o dataframe com o arquivo CSV"
   ],
   "metadata": {
    "collapsed": false
   }
  },
  {
   "cell_type": "code",
   "execution_count": null,
   "outputs": [],
   "source": [
    "import matplotlib.pyplot as plt\n",
    "import pandas as pd\n",
    "from sklearn.neighbors import KNeighborsClassifier\n",
    "from sklearn.model_selection import train_test_split\n",
    "from mlxtend.plotting import plot_confusion_matrix\n",
    "from sklearn.metrics import confusion_matrix, accuracy_score\n",
    "\n",
    "CSV_FULL_PATH = '../CSVs/pokemon.csv'\n",
    "\n",
    "data_pandas = pd.read_csv(CSV_FULL_PATH)\n",
    "df = pd.DataFrame(data_pandas)\n",
    "\n",
    "x = df.drop(['attack', 'defense', 'sp_attack', 'sp_defense', 'is_legendary', 'name'], axis=1)\n",
    "y = df['is_legendary']"
   ],
   "metadata": {
    "collapsed": false
   }
  },
  {
   "cell_type": "markdown",
   "source": [
    "## Separando os dados, definindo o número 'k' de vizinhos e testando o modelo"
   ],
   "metadata": {
    "collapsed": false
   }
  },
  {
   "cell_type": "code",
   "execution_count": null,
   "outputs": [],
   "source": [
    "x_train, x_test, y_train, y_test = train_test_split(x, y, test_size=0.25, random_state=1)\n",
    "\n",
    "training_accuracy = []\n",
    "test_accuracy = []\n",
    "\n",
    "neighbors_settings = range(1, 16)\n",
    "\n",
    "precision_list = []\n",
    "recall_list = []\n",
    "f1_list = []\n",
    "\n",
    "for n_neighbors in neighbors_settings:\n",
    "    model = KNeighborsClassifier(n_neighbors=n_neighbors)\n",
    "    model.fit(x_train, y_train)\n",
    "\n",
    "    training_accuracy.append(model.score(x_train, y_train))\n",
    "    test_accuracy.append(model.score(x_test, y_test))\n",
    "\n",
    "    y_pred = model.predict(x_test)\n",
    "    recall_list.append(confusion_matrix(y_test, y_pred)[1][1] / (\n",
    "                confusion_matrix(y_test, y_pred)[1][1] + confusion_matrix(y_test, y_pred)[1][0]))\n",
    "    precision_list.append(confusion_matrix(y_test, y_pred)[1][1] / (\n",
    "                confusion_matrix(y_test, y_pred)[1][1] + confusion_matrix(y_test, y_pred)[0][1]))\n",
    "    f1_list.append(2 * (precision_list[-1] * recall_list[-1]) / (precision_list[-1] + recall_list[-1]))\n"
   ],
   "metadata": {
    "collapsed": false
   }
  },
  {
   "cell_type": "markdown",
   "source": [
    "## Visualizando o resultado\n",
    "Vamos ver como o algoritmo se comporta com diferentes números de vizinhos e como ficam as precisões de treinamento e teste."
   ],
   "metadata": {
    "collapsed": false
   }
  },
  {
   "cell_type": "code",
   "execution_count": null,
   "outputs": [],
   "source": [
    "plt.plot(neighbors_settings, training_accuracy, label='Training Accuracy')\n",
    "plt.plot(neighbors_settings, test_accuracy, label='Test Accuracy')\n",
    "plt.ylabel('Accuracy')\n",
    "plt.xlabel('n_neighbors')\n",
    "plt.legend()\n",
    "plt.show()"
   ],
   "metadata": {
    "collapsed": false
   }
  },
  {
   "cell_type": "markdown",
   "source": [
    "# Visualizando o resultado para o número de vizinhos ideal"
   ],
   "metadata": {
    "collapsed": false
   }
  },
  {
   "cell_type": "code",
   "execution_count": null,
   "outputs": [],
   "source": [
    "best_n = test_accuracy.index(max(test_accuracy)) + 1\n",
    "best_model = KNeighborsClassifier(n_neighbors=best_n)\n",
    "best_model.fit(x_train, y_train)\n",
    "y_pred = best_model.predict(x_test)\n",
    "print('Accuracy: {}%'.format(accuracy_score(y_test, y_pred) * 100))\n",
    "recall = confusion_matrix(y_test, y_pred)[1][1] / (\n",
    "            confusion_matrix(y_test, y_pred)[1][1] + confusion_matrix(y_test, y_pred)[1][0])\n",
    "f1 = 2 * (recall * accuracy_score(y_test, y_pred)) / (recall + accuracy_score(y_test, y_pred))\n",
    "precision = confusion_matrix(y_test, y_pred)[1][1] / (\n",
    "            confusion_matrix(y_test, y_pred)[1][1] + confusion_matrix(y_test, y_pred)[0][1])\n",
    "print('Recall: {}%'.format(recall * 100))\n",
    "print('F1: {}%'.format(f1 * 100))\n",
    "print('Precision: {}%'.format(precision * 100))"
   ],
   "metadata": {
    "collapsed": false
   }
  },
  {
   "cell_type": "code",
   "execution_count": null,
   "outputs": [],
   "source": [
    "# Comparação mais profunda entre diferentes números de vizinhos"
   ],
   "metadata": {
    "collapsed": false
   }
  },
  {
   "cell_type": "code",
   "execution_count": null,
   "outputs": [],
   "source": [
    "print('n_neighbors\\t\\tTest Accuracy\\t\\tPrecision\\t\\tRecall\\t\\tF1')\n",
    "results = pd.DataFrame({'n_neighbors': neighbors_settings, 'Test Accuracy': test_accuracy, 'Precision': precision_list,\n",
    "                        'Recall': recall_list, 'F1': f1_list})\n",
    "results = results.round(2)\n",
    "results"
   ],
   "metadata": {
    "collapsed": false
   }
  },
  {
   "cell_type": "markdown",
   "source": [
    "# Matriz de confusão"
   ],
   "metadata": {
    "collapsed": false
   }
  },
  {
   "cell_type": "code",
   "execution_count": null,
   "outputs": [],
   "source": [
    "cm = confusion_matrix(y_test, y_pred)\n",
    "fig, ax = plot_confusion_matrix(conf_mat=confusion_matrix(y_test, y_pred), figsize=(6, 6), cmap=plt.cm.Greens)\n",
    "ax.xaxis.set(ticks=(0, 1), ticklabels=('Predicted 0s', 'Predicted 1s'))\n",
    "ax.yaxis.set(ticks=(0, 1), ticklabels=('Actual 0s', 'Actual 1s'))\n",
    "plt.xlabel('Predictions', fontsize=18)\n",
    "plt.ylabel('Actuals', fontsize=18)\n",
    "for t in ax.texts:\n",
    "    t.set_color('red')\n",
    "plt.savefig('confusion_matrix.png')\n",
    "plt.clf()"
   ],
   "metadata": {
    "collapsed": false
   }
  },
  {
   "cell_type": "markdown",
   "source": [
    "# Resultados para o número de vizinhos ideal"
   ],
   "metadata": {
    "collapsed": false
   }
  },
  {
   "cell_type": "code",
   "execution_count": null,
   "outputs": [],
   "source": [
    "leg_pred_as_leg = []\n",
    "leg_pred_as_not_leg = []\n",
    "not_leg_pred_as_leg = []\n",
    "for i in range(len(y_pred)):\n",
    "    if y_pred[i] == 1 and y_test.iloc[i] == 1:\n",
    "        leg_pred_as_leg.append(df.loc[x_test.index[i], 'name'])\n",
    "    elif y_pred[i] == 0 and y_test.iloc[i] == 1:\n",
    "        leg_pred_as_not_leg.append(df.loc[x_test.index[i], 'name'])\n",
    "    elif y_pred[i] == 1 and y_test.iloc[i] == 0:\n",
    "        not_leg_pred_as_leg.append(df.loc[x_test.index[i], 'name'])\n",
    "leg_df = pd.DataFrame({'Pokemon': leg_pred_as_leg, 'Predicted': 'Legendary', 'Actual': 'Legendary'})\n",
    "not_leg_df = pd.DataFrame({'Pokemon': leg_pred_as_not_leg, 'Predicted': 'Not Legendary', 'Actual': 'Legendary'})\n",
    "not_leg_pred_as_leg_df = pd.DataFrame(\n",
    "    {'Pokemon': not_leg_pred_as_leg, 'Predicted': 'Legendary', 'Actual': 'Not Legendary'})\n",
    "df = pd.concat([leg_df, not_leg_df, not_leg_pred_as_leg_df])\n",
    "df"
   ],
   "metadata": {
    "collapsed": false
   }
  }
 ],
 "metadata": {
  "kernelspec": {
   "display_name": "Python 3",
   "language": "python",
   "name": "python3"
  },
  "language_info": {
   "codemirror_mode": {
    "name": "ipython",
    "version": 2
   },
   "file_extension": ".py",
   "mimetype": "text/x-python",
   "name": "python",
   "nbconvert_exporter": "python",
   "pygments_lexer": "ipython2",
   "version": "2.7.6"
  }
 },
 "nbformat": 4,
 "nbformat_minor": 0
}
